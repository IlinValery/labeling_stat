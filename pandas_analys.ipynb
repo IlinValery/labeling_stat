{
 "cells": [
  {
   "cell_type": "code",
   "execution_count": 1,
   "metadata": {},
   "outputs": [],
   "source": [
    "import pandas as pd\n",
    "import xml.etree.ElementTree as ET\n",
    "import seaborn as sns"
   ]
  },
  {
   "cell_type": "code",
   "execution_count": 2,
   "metadata": {},
   "outputs": [],
   "source": [
    "def getvalueofnode(node):\n",
    "    \"\"\" return node text or None \"\"\"\n",
    "    return node.text if node is not None else None"
   ]
  },
  {
   "cell_type": "code",
   "execution_count": 3,
   "metadata": {},
   "outputs": [],
   "source": [
    "dfcols = ['filename', 'name', 'xmin', 'ymin', 'xmax', 'ymax']\n",
    "parsedXML = ET.parse(\"data.xml\")\n",
    "root = parsedXML.getroot()"
   ]
  },
  {
   "cell_type": "code",
   "execution_count": 4,
   "metadata": {},
   "outputs": [],
   "source": [
    "count_files = 0\n",
    "count_objects = 0\n",
    "df_xml = pd.DataFrame(columns=dfcols)\n",
    "for node in root:\n",
    "    filename = node.find('filename')\n",
    "    count_files+=1\n",
    "    for obj in node.findall('object'):\n",
    "        count_objects+=1\n",
    "        name = obj.find('name')\n",
    "        xmin = obj.find('bndbox/xmin')\n",
    "        ymin = obj.find('bndbox/ymin')\n",
    "        xmax = obj.find('bndbox/xmax')\n",
    "        ymax = obj.find('bndbox/ymax')\n",
    "        df_xml = df_xml.append(pd.Series([getvalueofnode(filename), getvalueofnode(name), getvalueofnode(xmin), getvalueofnode(ymin), getvalueofnode(xmax), getvalueofnode(ymax)], index=dfcols), ignore_index=True)            \n"
   ]
  },
  {
   "cell_type": "code",
   "execution_count": 5,
   "metadata": {},
   "outputs": [
    {
     "name": "stdout",
     "output_type": "stream",
     "text": [
      "Total files: 2710 \n",
      "Total objects: 6417\n"
     ]
    }
   ],
   "source": [
    "print(\"Total files:\", count_files, \"\\nTotal objects:\", count_objects)"
   ]
  },
  {
   "cell_type": "code",
   "execution_count": 6,
   "metadata": {},
   "outputs": [
    {
     "data": {
      "text/plain": [
       "<matplotlib.axes._subplots.AxesSubplot at 0x1283efe80>"
      ]
     },
     "execution_count": 6,
     "metadata": {},
     "output_type": "execute_result"
    }
   ],
   "source": [
    "sns.countplot(df_xml.name)"
   ]
  },
  {
   "cell_type": "code",
   "execution_count": 7,
   "metadata": {},
   "outputs": [],
   "source": [
    "dictionary_obj = {}\n",
    "for obj_name in df_xml['name']:\n",
    "    if obj_name not in dictionary_obj:\n",
    "        dictionary_obj[obj_name] = 1\n",
    "    else:\n",
    "        dictionary_obj[obj_name] += 1"
   ]
  },
  {
   "cell_type": "code",
   "execution_count": 8,
   "metadata": {},
   "outputs": [
    {
     "name": "stdout",
     "output_type": "stream",
     "text": [
      "apple \t 205\n",
      "orange \t 159\n",
      "armchair \t 98\n",
      "laptop \t 217\n",
      "scissors \t 12\n",
      "backpack \t 202\n",
      "cup \t 175\n",
      "mouse \t 212\n",
      "display \t 241\n",
      "banana \t 218\n",
      "bed \t 78\n",
      "stairs \t 194\n",
      "book \t 270\n",
      "computer \t 478\n",
      "bottle \t 391\n",
      "chair \t 496\n",
      "keyboard \t 273\n",
      "car \t 475\n",
      "person \t 86\n",
      "bus \t 3\n",
      "traffic light \t 2\n",
      "cell phone \t 308\n",
      "door \t 374\n",
      "сup \t 2\n",
      "fork \t 463\n",
      "hair drier \t 123\n",
      "knife \t 229\n",
      "microwave \t 135\n",
      "oven \t 22\n",
      "plate \t 232\n",
      "refrigerator \t 44\n"
     ]
    }
   ],
   "source": [
    "for i in dictionary_obj.keys():\n",
    "    print(i,\"\\t\", dictionary_obj[i])"
   ]
  }
 ],
 "metadata": {
  "kernelspec": {
   "display_name": "Python 3",
   "language": "python",
   "name": "python3"
  },
  "language_info": {
   "codemirror_mode": {
    "name": "ipython",
    "version": 3
   },
   "file_extension": ".py",
   "mimetype": "text/x-python",
   "name": "python",
   "nbconvert_exporter": "python",
   "pygments_lexer": "ipython3",
   "version": "3.7.1"
  }
 },
 "nbformat": 4,
 "nbformat_minor": 2
}
